{
  "nbformat": 4,
  "nbformat_minor": 0,
  "metadata": {
    "colab": {
      "provenance": [],
      "authorship_tag": "ABX9TyN9Gq8bhdKiB+c4ZLOe2pLQ",
      "include_colab_link": true
    },
    "kernelspec": {
      "name": "python3",
      "display_name": "Python 3"
    },
    "language_info": {
      "name": "python"
    }
  },
  "cells": [
    {
      "cell_type": "markdown",
      "metadata": {
        "id": "view-in-github",
        "colab_type": "text"
      },
      "source": [
        "<a href=\"https://colab.research.google.com/github/phanconghieu29/Artificial_Intelligence/blob/main/Buoi1_Gioithieu_Python.ipynb\" target=\"_parent\"><img src=\"https://colab.research.google.com/assets/colab-badge.svg\" alt=\"Open In Colab\"/></a>"
      ]
    },
    {
      "cell_type": "code",
      "execution_count": null,
      "metadata": {
        "colab": {
          "base_uri": "https://localhost:8080/"
        },
        "id": "tyVldzdO7gII",
        "outputId": "4f083861-246d-473a-f186-522af2713399"
      },
      "outputs": [
        {
          "output_type": "stream",
          "name": "stdout",
          "text": [
            "[5, 16, 5, 7, 2, 8]\n"
          ]
        }
      ],
      "source": [
        "#Bai 13\n",
        "a = [3, 9, 1, 4]\n",
        "b = [2, 7, 4, 3, 2, 8]\n",
        "min = len(a) if len(a) < len(b) else len(a)\n",
        "c = a if len(a) > len(b) else b\n",
        "for i in range(min):\n",
        "  c[i] = a[i] + b[i]\n",
        "print(c)"
      ]
    },
    {
      "cell_type": "code",
      "source": [
        "#Bai 14\n",
        "#a) Tao mang 2 chieu chua so nguyen ngau nhien\n",
        "import numpy as np\n",
        "m = int(input(\"Nhap so dong: \"))\n",
        "n = int(input(\"Nhap so cot: \"))\n",
        "a = np.random.randint(-10, 10, (m,n))\n",
        "print(a)\n",
        "#b) Xuat cac phan tu thuoc dong K\n",
        "k = int(input(\"Nhap dong k: \"))\n",
        "if(k < m and k >= 0):\n",
        "  print(a[k])\n",
        "else:\n",
        "  print(\"Dong k khong co trong mang\")\n",
        "#c) Xuat cac phan tu thuoc cot L\n",
        "l = int(input(\"Nhap dong l: \"))\n",
        "if(l < n and l >= 0):\n",
        "  for i in range(m):\n",
        "    print(a[i][l])\n",
        "else:\n",
        "  print(\"Dong l khong co trong mang\")"
      ],
      "metadata": {
        "id": "P8bHk8y9aZmy",
        "colab": {
          "base_uri": "https://localhost:8080/"
        },
        "outputId": "ff427f25-e2bb-4255-97c1-05500b24f230"
      },
      "execution_count": 3,
      "outputs": [
        {
          "output_type": "stream",
          "name": "stdout",
          "text": [
            "Nhap so dong: 3\n",
            "Nhap so cot: 4\n",
            "[[ 7 -1 -6 -4]\n",
            " [ 6  7  0  1]\n",
            " [ 1  0  8  2]]\n",
            "Nhap dong k: 1\n",
            "[6 7 0 1]\n",
            "Nhap dong l: 2\n",
            "-6\n",
            "0\n",
            "8\n"
          ]
        }
      ]
    },
    {
      "cell_type": "code",
      "source": [
        "#Bai 15\n",
        "#a) Xay dung cau truc Sinh Vien\n",
        "class SinhVien:\n",
        "  dict_sv = {\n",
        "      \"MSSV\": [],\n",
        "      \"TenSV\": [],\n",
        "      \"NamSinh\": [],\n",
        "      \"DiemTB\": []\n",
        "  }\n",
        "#b) Tao mang cho n sinh vien\n",
        "  def __init__(self, n):\n",
        "    for i in range(n):\n",
        "      ma = input(\"Nhap ma sinh vien: \")\n",
        "      ten = input(\"Nhap ten sinh vien: \")\n",
        "      ns = input(\"Nhap nam sinh: \")\n",
        "      dtb = input(\"Nhap diem trung binh: \")\n",
        "      self.dict_sv[\"MSSV\"].append(ma)\n",
        "      self.dict_sv[\"TenSV\"].append(ten)\n",
        "      self.dict_sv[\"NamSinh\"].append(ns)\n",
        "      self.dict_sv[\"DiemTB\"].append(dtb)\n",
        "#c) Cho biet co bao nhieu sinh vien du dieu kien len lop\n",
        "def dem_SV_Duoc_Len_Lop():\n",
        "  count = 0\n",
        "  for i in range(len(SinhVien.dict_sv[\"MSSV\"])):\n",
        "    if float(SinhVien.dict_sv[\"DiemTB\"][i]) >= 5:\n",
        "      count += 1\n",
        "  return count\n",
        "\n",
        "SinhVien(3)\n",
        "print(\"So sinh vien du dieu kien len lop la: \" + str(dem_SV_Duoc_Len_Lop()))"
      ],
      "metadata": {
        "colab": {
          "base_uri": "https://localhost:8080/"
        },
        "id": "7Sib75K-artF",
        "outputId": "6f33424a-e14d-4aaa-9da6-798d287a1099"
      },
      "execution_count": 4,
      "outputs": [
        {
          "output_type": "stream",
          "name": "stdout",
          "text": [
            "Nhap ma sinh vien: 1\n",
            "Nhap ten sinh vien: A\n",
            "Nhap nam sinh: 2003\n",
            "Nhap diem trung binh: 7\n",
            "Nhap ma sinh vien: 2\n",
            "Nhap ten sinh vien: B\n",
            "Nhap nam sinh: 2003\n",
            "Nhap diem trung binh: 4\n",
            "Nhap ma sinh vien: 3\n",
            "Nhap ten sinh vien: C\n",
            "Nhap nam sinh: 2003\n",
            "Nhap diem trung binh: 8\n",
            "So sinh vien du dieu kien len lop la: 2\n"
          ]
        }
      ]
    }
  ]
}