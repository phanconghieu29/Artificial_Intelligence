{
  "nbformat": 4,
  "nbformat_minor": 0,
  "metadata": {
    "colab": {
      "provenance": [],
      "authorship_tag": "ABX9TyMh+SR/VD+v7S117lVjVeQd",
      "include_colab_link": true
    },
    "kernelspec": {
      "name": "python3",
      "display_name": "Python 3"
    },
    "language_info": {
      "name": "python"
    }
  },
  "cells": [
    {
      "cell_type": "markdown",
      "metadata": {
        "id": "view-in-github",
        "colab_type": "text"
      },
      "source": [
        "<a href=\"https://colab.research.google.com/github/phanconghieu29/Artificial_Intelligence/blob/main/Buoi1_Gioithieu_Python.ipynb\" target=\"_parent\"><img src=\"https://colab.research.google.com/assets/colab-badge.svg\" alt=\"Open In Colab\"/></a>"
      ]
    },
    {
      "cell_type": "code",
      "execution_count": 33,
      "metadata": {
        "colab": {
          "base_uri": "https://localhost:8080/"
        },
        "id": "tyVldzdO7gII",
        "outputId": "4f083861-246d-473a-f186-522af2713399"
      },
      "outputs": [
        {
          "output_type": "stream",
          "name": "stdout",
          "text": [
            "[5, 16, 5, 7, 2, 8]\n"
          ]
        }
      ],
      "source": [
        "#Bai 13\n",
        "a = [3, 9, 1, 4]\n",
        "b = [2, 7, 4, 3, 2, 8]\n",
        "min = len(a) if len(a) < len(b) else len(a)\n",
        "c = a if len(a) > len(b) else b\n",
        "for i in range(min):\n",
        "  c[i] = a[i] + b[i]\n",
        "print(c)"
      ]
    },
    {
      "cell_type": "code",
      "source": [
        "#Bai 14\n"
      ],
      "metadata": {
        "id": "P8bHk8y9aZmy"
      },
      "execution_count": null,
      "outputs": []
    },
    {
      "cell_type": "code",
      "source": [
        "#Bai 15\n",
        "#a) Xay dung cau truc Sinh Vien\n",
        "class SinhVien:\n",
        "  dict_sv = {\n",
        "      \"MSSV\": [],\n",
        "      \"TenSV\": [],\n",
        "      \"NamSinh\": [],\n",
        "      \"DiemTB\": []\n",
        "  }\n",
        "#b) Tao mang cho n sinh vien\n",
        "  def __init__(self, n):\n",
        "    for i in range(n):\n",
        "      ma = input(\"Nhap ma sinh vien: \")\n",
        "      ten = input(\"Nhap ten sinh vien: \")\n",
        "      ns = input(\"Nhap nam sinh: \")\n",
        "      dtb = input(\"Nhap diem trung binh: \")\n",
        "      self.dict_sv[\"MSSV\"].append(ma)\n",
        "      self.dict_sv[\"TenSV\"].append(ten)\n",
        "      self.dict_sv[\"NamSinh\"].append(ns)\n",
        "      self.dict_sv[\"DiemTB\"].append(dtb)\n",
        "#c) Cho biet co bao nhieu sinh vien du dieu kien len lop\n",
        "def dem_SV_Duoc_Len_Lop():\n",
        "  count = 0\n",
        "  for i in range(len(SinhVien.dict_sv[\"MSSV\"])):\n",
        "    if float(SinhVien.dict_sv[\"DiemTB\"][i]) >= 5:\n",
        "      count += 1\n",
        "  return count\n",
        "\n",
        "SinhVien(2)\n",
        "print(\"So sinh vien du dieu kien len lop la: \" + str(dem_SV_Duoc_Len_Lop()))"
      ],
      "metadata": {
        "colab": {
          "base_uri": "https://localhost:8080/"
        },
        "id": "7Sib75K-artF",
        "outputId": "020c6f99-7170-4d32-8b23-836f1ad622af"
      },
      "execution_count": 40,
      "outputs": [
        {
          "output_type": "stream",
          "name": "stdout",
          "text": [
            "Nhap ma sinh vien: 1\n",
            "Nhap ten sinh vien: A\n",
            "Nhap nam sinh: 2003\n",
            "Nhap diem trung binh: 7\n",
            "Nhap ma sinh vien: 2\n",
            "Nhap ten sinh vien: B\n",
            "Nhap nam sinh: 2003\n",
            "Nhap diem trung binh: 8\n",
            "So sinh vien du dieu kien len lop la: 2\n"
          ]
        }
      ]
    }
  ]
}